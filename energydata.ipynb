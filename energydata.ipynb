{
 "cells": [
  {
   "cell_type": "code",
   "execution_count": 145,
   "metadata": {},
   "outputs": [],
   "source": [
    "import numpy as np\n",
    "import pandas as pd\n",
    "\n",
    "from index import get_weights_df\n",
    "\n",
    "from sklearn.linear_model import Lasso, LinearRegression, Ridge\n",
    "from sklearn.model_selection import train_test_split\n",
    "from sklearn.metrics import mean_absolute_error as MAE\n",
    "from sklearn.metrics import mean_squared_error as MSE\n",
    "from sklearn.metrics import r2_score\n",
    "from sklearn.preprocessing import MinMaxScaler\n"
   ]
  },
  {
   "cell_type": "code",
   "execution_count": 146,
   "metadata": {},
   "outputs": [
    {
     "name": "stdout",
     "output_type": "stream",
     "text": [
      "                 date  Appliances  lights     T1       RH_1    T2       RH_2  \\\n",
      "0 2016-01-11 17:00:00          60      30  19.89  47.596667  19.2  44.790000   \n",
      "1 2016-01-11 17:10:00          60      30  19.89  46.693333  19.2  44.722500   \n",
      "2 2016-01-11 17:20:00          50      30  19.89  46.300000  19.2  44.626667   \n",
      "3 2016-01-11 17:30:00          50      40  19.89  46.066667  19.2  44.590000   \n",
      "4 2016-01-11 17:40:00          60      40  19.89  46.333333  19.2  44.530000   \n",
      "\n",
      "      T3       RH_3         T4  ...         T9   RH_9     T_out  Press_mm_hg  \\\n",
      "0  19.79  44.730000  19.000000  ...  17.033333  45.53  6.600000        733.5   \n",
      "1  19.79  44.790000  19.000000  ...  17.066667  45.56  6.483333        733.6   \n",
      "2  19.79  44.933333  18.926667  ...  17.000000  45.50  6.366667        733.7   \n",
      "3  19.79  45.000000  18.890000  ...  17.000000  45.40  6.250000        733.8   \n",
      "4  19.79  45.000000  18.890000  ...  17.000000  45.40  6.133333        733.9   \n",
      "\n",
      "   RH_out  Windspeed  Visibility  Tdewpoint        rv1        rv2  \n",
      "0    92.0   7.000000   63.000000        5.3  13.275433  13.275433  \n",
      "1    92.0   6.666667   59.166667        5.2  18.606195  18.606195  \n",
      "2    92.0   6.333333   55.333333        5.1  28.642668  28.642668  \n",
      "3    92.0   6.000000   51.500000        5.0  45.410389  45.410389  \n",
      "4    92.0   5.666667   47.666667        4.9  10.084097  10.084097  \n",
      "\n",
      "[5 rows x 29 columns]\n"
     ]
    }
   ],
   "source": [
    "energy_data_csv = 'https://archive.ics.uci.edu/ml/machine-learning-databases/00374/energydata_complete.csv'\n",
    "energy_data= pd.read_csv(energy_data_csv, parse_dates=['date'])\n",
    "print(energy_data.head())"
   ]
  },
  {
   "cell_type": "code",
   "execution_count": 147,
   "metadata": {},
   "outputs": [],
   "source": [
    "\n",
    "X = energy_data.T2.values.reshape(-1, 1)\n",
    "y= energy_data.T6.values.reshape(-1, 1)"
   ]
  },
  {
   "cell_type": "code",
   "execution_count": 148,
   "metadata": {},
   "outputs": [
    {
     "name": "stdout",
     "output_type": "stream",
     "text": [
      "0.64\n"
     ]
    }
   ],
   "source": [
    "\"Question 12\"\n",
    "linreg = LinearRegression()\n",
    "X_train, X_test, y_train, y_test = train_test_split(X, y, test_size=0.3, random_state=42)\n",
    "linreg.fit(X_train, y_train)\n",
    "y_pred = linreg.predict(X_test)\n",
    "R_squared = r2_score(y_test, y_pred)\n",
    "print(\"{:.2f}\".format(R_squared))"
   ]
  },
  {
   "cell_type": "code",
   "execution_count": 149,
   "metadata": {},
   "outputs": [],
   "source": [
    "energy_data1 = energy_data.drop(['date', 'lights'], axis=1)\n",
    "scaler = MinMaxScaler()\n",
    "normalised_df = pd.DataFrame(scaler.fit_transform(energy_data1), columns=energy_data1.columns)\n",
    "X = normalised_df.drop(['Appliances'], axis=1)\n",
    "y= normalised_df['Appliances']\n",
    "X_train, X_test, y_train, y_test = train_test_split(X, y, test_size=0.3, random_state=42)\n",
    "app_linreg = LinearRegression()\n",
    "app_linreg.fit(X_train, y_train)\n",
    "y_pred = app_linreg.predict(X_test)"
   ]
  },
  {
   "cell_type": "code",
   "execution_count": 150,
   "metadata": {},
   "outputs": [
    {
     "name": "stdout",
     "output_type": "stream",
     "text": [
      "The mean absolute error is 0.05.\n"
     ]
    }
   ],
   "source": [
    "\"Question 13\"\n",
    "app_MAE = MAE(y_test, y_pred)\n",
    "print(\"The mean absolute error is {:.2f}.\".format(app_MAE))"
   ]
  },
  {
   "cell_type": "code",
   "execution_count": 151,
   "metadata": {},
   "outputs": [
    {
     "name": "stdout",
     "output_type": "stream",
     "text": [
      "The sum of squared error is 45.35.\n"
     ]
    }
   ],
   "source": [
    "\"Question 14\"\n",
    "app_RSS = np.sum(np.square(y_test - y_pred))\n",
    "print(\"The sum of squared error is {:.2f}.\".format(app_RSS))"
   ]
  },
  {
   "cell_type": "code",
   "execution_count": 152,
   "metadata": {},
   "outputs": [
    {
     "name": "stdout",
     "output_type": "stream",
     "text": [
      "The root mean squared error is 0.088.\n"
     ]
    }
   ],
   "source": [
    "\"Question 15\"\n",
    "app_MSE = MSE(y_test, y_pred)\n",
    "app_RMSE = np.sqrt(app_MSE)\n",
    "print(\"The root mean squared error is {:.3f}.\".format(app_RMSE))"
   ]
  },
  {
   "cell_type": "code",
   "execution_count": 153,
   "metadata": {},
   "outputs": [
    {
     "name": "stdout",
     "output_type": "stream",
     "text": [
      "R-squared is 0.15.\n"
     ]
    }
   ],
   "source": [
    "\"Question 16\"\n",
    "app_R_Squared = r2_score(y_test, y_pred)\n",
    "print(\"R-squared is {:.2f}.\".format(app_R_Squared))"
   ]
  },
  {
   "cell_type": "code",
   "execution_count": 154,
   "metadata": {},
   "outputs": [
    {
     "name": "stdout",
     "output_type": "stream",
     "text": [
      "   Features  Linear_Model_Weight\n",
      "0      RH_2            -0.456698\n",
      "25     RH_1             0.553547\n"
     ]
    }
   ],
   "source": [
    "\"Question 17\"\n",
    "linear_model_weights = get_weights_df(app_linreg, X_train, 'Linear_Model_Weight')\n",
    "row_length = linear_model_weights.shape[0] - 1\n",
    "print(linear_model_weights.loc[[0, row_length], :])\n"
   ]
  },
  {
   "cell_type": "code",
   "execution_count": 155,
   "metadata": {},
   "outputs": [
    {
     "name": "stdout",
     "output_type": "stream",
     "text": [
      "The root mean squared error is 0.088.\n"
     ]
    }
   ],
   "source": [
    "\"Question 18\"\n",
    "ridge_reg = Ridge(alpha=0.4)\n",
    "ridge_reg.fit(X_train, y_train)\n",
    "y_pred = ridge_reg.predict(X_test)\n",
    "app_MSE = MSE(y_test, y_pred)\n",
    "app_RMSE = np.sqrt(app_MSE)\n",
    "print(\"The root mean squared error is {:.3f}.\".format(app_RMSE))\n"
   ]
  },
  {
   "cell_type": "code",
   "execution_count": 156,
   "metadata": {},
   "outputs": [],
   "source": [
    "lasso_reg = Lasso(alpha=0.001)\n",
    "lasso_reg.fit(X_train, y_train)\n",
    "y_pred = lasso_reg.predict(X_test)"
   ]
  },
  {
   "cell_type": "code",
   "execution_count": 157,
   "metadata": {},
   "outputs": [
    {
     "name": "stdout",
     "output_type": "stream",
     "text": [
      "     Features  Lasso_Weight\n",
      "0      RH_out     -0.049557\n",
      "1        RH_8     -0.000110\n",
      "24  Windspeed      0.002912\n",
      "25       RH_1      0.017880\n"
     ]
    }
   ],
   "source": [
    "\"Question 19\"\n",
    "lasso_model_weights = get_weights_df(lasso_reg, X_train, 'Lasso_Weight')\n",
    "non_zero_weight = lasso_model_weights[lasso_model_weights.Lasso_Weight != 0]\n",
    "print(non_zero_weight)"
   ]
  },
  {
   "cell_type": "code",
   "execution_count": 158,
   "metadata": {},
   "outputs": [
    {
     "name": "stdout",
     "output_type": "stream",
     "text": [
      "The root mean squared error is 0.094.\n"
     ]
    }
   ],
   "source": [
    "\"Question 20\"\n",
    "app_MSE = MSE(y_test, y_pred)\n",
    "app_RMSE = np.sqrt(app_MSE)\n",
    "print(\"The root mean squared error is {:.3f}.\".format(app_RMSE))"
   ]
  }
 ],
 "metadata": {
  "interpreter": {
   "hash": "6d46af94c2bbce495f1e668725902fa517c90b1782bcfe2fce0dd9868df553d3"
  },
  "kernelspec": {
   "display_name": "Python 3.9.7 64-bit ('base': conda)",
   "language": "python",
   "name": "python3"
  },
  "language_info": {
   "codemirror_mode": {
    "name": "ipython",
    "version": 3
   },
   "file_extension": ".py",
   "mimetype": "text/x-python",
   "name": "python",
   "nbconvert_exporter": "python",
   "pygments_lexer": "ipython3",
   "version": "3.9.7"
  },
  "orig_nbformat": 4
 },
 "nbformat": 4,
 "nbformat_minor": 2
}
